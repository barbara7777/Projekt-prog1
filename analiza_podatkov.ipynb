{
 "cells": [
  {
   "cell_type": "markdown",
   "metadata": {},
   "source": [
    "# Analiza prostih delovnih mest\n",
    "\n",
    "Zbrala in analizirala sem podatke o prostih delovnih mestih za študentsko delo, ki jih objavlja [e-Študentski servis](https://www.studentski-servis.com/studenti/delo/prosta-dela). Podatki so bili zajeti novembra 2018, zato so aktualne ponudbe zdaj lahko drugačne. Če želimo, jih osvežimo tako, da ponovno poženemo skripto za shranjevanje spletne strani in za zbiranje podatkov. "
   ]
  },
  {
   "cell_type": "code",
   "execution_count": 2,
   "metadata": {},
   "outputs": [],
   "source": [
    "import pandas as pd\n",
    "import matplotlib.pyplot as plt\n",
    "%matplotlib inline\n",
    "import numpy as np\n",
    "\n",
    "pd.options.display.max_rows = 20"
   ]
  },
  {
   "cell_type": "code",
   "execution_count": 3,
   "metadata": {},
   "outputs": [
    {
     "name": "stderr",
     "output_type": "stream",
     "text": [
      "b'Skipping line 2827: expected 8 fields, saw 9\\n'\n"
     ]
    }
   ],
   "source": [
    "podatki_o_delovnih_mestih = pd.read_csv('podatki_o_delu.csv', sep=';', index_col='sifra', error_bad_lines=False)"
   ]
  },
  {
   "cell_type": "markdown",
   "metadata": {},
   "source": [
    "Zbrani so podatki o nazivu dela, kratek opis, kje, kako dolgo in s kakšnim delovnim časom poteka delo, koliko mest je na voljo in plačilo. Za lažjo analizo, je znesek plačila brez enote. Povsod, kjer enot ni, gre za *nek znesek* €/h neto. Za nekatera dela imajo zapis o plačilo v opisno obliki, kot na primer: *10€ na anketo* ali *po projektu*."
   ]
  },
  {
   "cell_type": "code",
   "execution_count": 4,
   "metadata": {
    "scrolled": true
   },
   "outputs": [
    {
     "data": {
      "text/html": [
       "<div>\n",
       "<style scoped>\n",
       "    .dataframe tbody tr th:only-of-type {\n",
       "        vertical-align: middle;\n",
       "    }\n",
       "\n",
       "    .dataframe tbody tr th {\n",
       "        vertical-align: top;\n",
       "    }\n",
       "\n",
       "    .dataframe thead th {\n",
       "        text-align: right;\n",
       "    }\n",
       "</style>\n",
       "<table border=\"1\" class=\"dataframe\">\n",
       "  <thead>\n",
       "    <tr style=\"text-align: right;\">\n",
       "      <th></th>\n",
       "      <th>delovno_mesto</th>\n",
       "      <th>placilo</th>\n",
       "      <th>lokacija</th>\n",
       "      <th>opis</th>\n",
       "      <th>st_prostih_mest</th>\n",
       "      <th>trajanje</th>\n",
       "      <th>delovnik</th>\n",
       "    </tr>\n",
       "    <tr>\n",
       "      <th>sifra</th>\n",
       "      <th></th>\n",
       "      <th></th>\n",
       "      <th></th>\n",
       "      <th></th>\n",
       "      <th></th>\n",
       "      <th></th>\n",
       "      <th></th>\n",
       "    </tr>\n",
       "  </thead>\n",
       "  <tbody>\n",
       "    <tr>\n",
       "      <th>280638</th>\n",
       "      <td>POMOČ V STREŽBI</td>\n",
       "      <td>5,50</td>\n",
       "      <td>LJUBLJANA</td>\n",
       "      <td>Podjetje išče dve osebi za pomožna dela v stre...</td>\n",
       "      <td>2</td>\n",
       "      <td>PODOGOVORU</td>\n",
       "      <td>Popoldan</td>\n",
       "    </tr>\n",
       "    <tr>\n",
       "      <th>280636</th>\n",
       "      <td>ADMINISTRATIVNA DELA</td>\n",
       "      <td>4,50</td>\n",
       "      <td>LJUBLJANA</td>\n",
       "      <td>Podjetje potrebuje osebo višjega letnika študi...</td>\n",
       "      <td>1</td>\n",
       "      <td>PO DOGOVORU</td>\n",
       "      <td>Po dogovoru</td>\n",
       "    </tr>\n",
       "    <tr>\n",
       "      <th>280635</th>\n",
       "      <td>DELO V KUHINJI</td>\n",
       "      <td>5,00</td>\n",
       "      <td>LJUBLJANA</td>\n",
       "      <td>Podjetje išče osebi  za pomivanje posode. Zaže...</td>\n",
       "      <td>2</td>\n",
       "      <td>PODOGOVORU</td>\n",
       "      <td>Popoldan</td>\n",
       "    </tr>\n",
       "    <tr>\n",
       "      <th>280634</th>\n",
       "      <td>DELO V PROIZVODNJI</td>\n",
       "      <td>4,22</td>\n",
       "      <td>LJUBLJANA</td>\n",
       "      <td>Znano farmacevtsko podjetje potrebuje  polnole...</td>\n",
       "      <td>1</td>\n",
       "      <td>DLJE ČASA</td>\n",
       "      <td>Izmensko</td>\n",
       "    </tr>\n",
       "    <tr>\n",
       "      <th>280633</th>\n",
       "      <td>MARKETING</td>\n",
       "      <td>5,92</td>\n",
       "      <td>LJUBLJANA</td>\n",
       "      <td>Iščejo samostojno, proaktivno, iznajdljivo, za...</td>\n",
       "      <td>1</td>\n",
       "      <td>DLJE ČASA</td>\n",
       "      <td>Dopoldan</td>\n",
       "    </tr>\n",
       "    <tr>\n",
       "      <th>280632</th>\n",
       "      <td>NAKLADANJE/ RAZKLADANJE</td>\n",
       "      <td>6,76</td>\n",
       "      <td>LOGATEC</td>\n",
       "      <td>Potrebujejo dva kandidata za razkladanje konte...</td>\n",
       "      <td>2</td>\n",
       "      <td>5 11.2018</td>\n",
       "      <td>Dopoldan</td>\n",
       "    </tr>\n",
       "    <tr>\n",
       "      <th>280630</th>\n",
       "      <td>FOTOKOPIRANJE</td>\n",
       "      <td>4,00</td>\n",
       "      <td>MARIBOR</td>\n",
       "      <td>Podjetje potrebuje spretne osebe za pomoč v fo...</td>\n",
       "      <td>3</td>\n",
       "      <td>DLJE ČASA</td>\n",
       "      <td>Izmensko</td>\n",
       "    </tr>\n",
       "    <tr>\n",
       "      <th>280629</th>\n",
       "      <td>DELO S STRANKAMI</td>\n",
       "      <td>5,00</td>\n",
       "      <td>LJUBLJANA</td>\n",
       "      <td>Obvezno odlično znanje italijanskega jezika, o...</td>\n",
       "      <td>1</td>\n",
       "      <td>DLJE ČASA</td>\n",
       "      <td>Po dogovoru</td>\n",
       "    </tr>\n",
       "    <tr>\n",
       "      <th>280628</th>\n",
       "      <td>ADMINISTRATIVNA DELA</td>\n",
       "      <td>5,00</td>\n",
       "      <td>LJUBLJANA</td>\n",
       "      <td>Iščejo študenta ali študentko, ki zaključuje š...</td>\n",
       "      <td>1</td>\n",
       "      <td>OD 1 DO 2 MESECEV, MOŽNO PODALJŠANJE.</td>\n",
       "      <td>Dopoldan</td>\n",
       "    </tr>\n",
       "    <tr>\n",
       "      <th>280627</th>\n",
       "      <td>POMOČ PRI PRODAJI</td>\n",
       "      <td>4,22</td>\n",
       "      <td>LJUBLJANA</td>\n",
       "      <td>Podjetje išče polnoletno osebo za prodajo iger...</td>\n",
       "      <td>1</td>\n",
       "      <td>DLJE ČASA</td>\n",
       "      <td>Po dogovoru</td>\n",
       "    </tr>\n",
       "    <tr>\n",
       "      <th>...</th>\n",
       "      <td>...</td>\n",
       "      <td>...</td>\n",
       "      <td>...</td>\n",
       "      <td>...</td>\n",
       "      <td>...</td>\n",
       "      <td>...</td>\n",
       "      <td>...</td>\n",
       "    </tr>\n",
       "    <tr>\n",
       "      <th>206159</th>\n",
       "      <td>STREŽBA</td>\n",
       "      <td>6,76</td>\n",
       "      <td>LJUBLJANA</td>\n",
       "      <td>Delo poteka v nočnem času. Pogoj je starost na...</td>\n",
       "      <td>3</td>\n",
       "      <td>DLJE ČASA</td>\n",
       "      <td>Po dogovoru</td>\n",
       "    </tr>\n",
       "    <tr>\n",
       "      <th>205967</th>\n",
       "      <td>FIZIČNA DELA</td>\n",
       "      <td>4,06</td>\n",
       "      <td>KOPER</td>\n",
       "      <td>Fizično delo v Luki Koper, pomoč pri raztovarj...</td>\n",
       "      <td>3</td>\n",
       "      <td>DLJE ČASA</td>\n",
       "      <td>Po dogovoru</td>\n",
       "    </tr>\n",
       "    <tr>\n",
       "      <th>205881</th>\n",
       "      <td>PARKIRANJE VOZIL</td>\n",
       "      <td>4,06</td>\n",
       "      <td>KOPER</td>\n",
       "      <td>Podjetje išče osebe za parkiranje vozil v Luki...</td>\n",
       "      <td>3</td>\n",
       "      <td>DLJE ČASA</td>\n",
       "      <td>Po dogovoru</td>\n",
       "    </tr>\n",
       "    <tr>\n",
       "      <th>199179</th>\n",
       "      <td>STREŽBA</td>\n",
       "      <td>4,23</td>\n",
       "      <td>DOMŽALE</td>\n",
       "      <td>Strežba v lokalu športnega tipa s prijaznim ko...</td>\n",
       "      <td>1</td>\n",
       "      <td>DLJE ČASA</td>\n",
       "      <td>Izmensko</td>\n",
       "    </tr>\n",
       "    <tr>\n",
       "      <th>192928</th>\n",
       "      <td>POUČEVANJE</td>\n",
       "      <td>PO DOGOVORU</td>\n",
       "      <td>ROGAŠKA SLATINA, ŠMARJE PRI JELŠAH, ROGATEC</td>\n",
       "      <td>Ambiciozen plesni kolektiv išče mlade, zaneslj...</td>\n",
       "      <td>1</td>\n",
       "      <td>DLJE ČASA</td>\n",
       "      <td>Popoldan</td>\n",
       "    </tr>\n",
       "    <tr>\n",
       "      <th>192737</th>\n",
       "      <td>STREŽBA</td>\n",
       "      <td>4,23</td>\n",
       "      <td>LJUBLJANA</td>\n",
       "      <td>Pogoji: starost nad 18 let, izkušnje, prijazno...</td>\n",
       "      <td>1</td>\n",
       "      <td>DLJE ČASA</td>\n",
       "      <td>Izmensko</td>\n",
       "    </tr>\n",
       "    <tr>\n",
       "      <th>182979</th>\n",
       "      <td>STREŽBA</td>\n",
       "      <td>5,07</td>\n",
       "      <td>VRHNIKA</td>\n",
       "      <td>Pogoj je starost nad 20 let.</td>\n",
       "      <td>2</td>\n",
       "      <td>PO DOGOVORU</td>\n",
       "      <td>Popoldan</td>\n",
       "    </tr>\n",
       "    <tr>\n",
       "      <th>182923</th>\n",
       "      <td>STREŽBA</td>\n",
       "      <td>4,00</td>\n",
       "      <td>PRIGORICA</td>\n",
       "      <td>Prednost imajo vestne in komunikativne osebe. ...</td>\n",
       "      <td>1</td>\n",
       "      <td>DLJE ČASA</td>\n",
       "      <td>Popoldan</td>\n",
       "    </tr>\n",
       "    <tr>\n",
       "      <th>182863</th>\n",
       "      <td>STREŽBA</td>\n",
       "      <td>5,00</td>\n",
       "      <td>DOMŽALE, VIR</td>\n",
       "      <td>Priljubljen lokal ob Kamniški Bistrici išče po...</td>\n",
       "      <td>2</td>\n",
       "      <td>DLJE ČASA</td>\n",
       "      <td>Po dogovoru</td>\n",
       "    </tr>\n",
       "    <tr>\n",
       "      <th>182856</th>\n",
       "      <td>STREŽBA</td>\n",
       "      <td>5,00</td>\n",
       "      <td>RADOMLJE</td>\n",
       "      <td>Delo v strežbi,. Zaželene so izkušnje, starost...</td>\n",
       "      <td>1</td>\n",
       "      <td>DLJE ČASA</td>\n",
       "      <td>Po dogovoru</td>\n",
       "    </tr>\n",
       "  </tbody>\n",
       "</table>\n",
       "<p>3210 rows × 7 columns</p>\n",
       "</div>"
      ],
      "text/plain": [
       "                  delovno_mesto      placilo  \\\n",
       "sifra                                          \n",
       "280638          POMOČ V STREŽBI        5,50    \n",
       "280636     ADMINISTRATIVNA DELA        4,50    \n",
       "280635           DELO V KUHINJI        5,00    \n",
       "280634       DELO V PROIZVODNJI        4,22    \n",
       "280633                MARKETING        5,92    \n",
       "280632  NAKLADANJE/ RAZKLADANJE        6,76    \n",
       "280630            FOTOKOPIRANJE        4,00    \n",
       "280629         DELO S STRANKAMI        5,00    \n",
       "280628     ADMINISTRATIVNA DELA        5,00    \n",
       "280627        POMOČ PRI PRODAJI        4,22    \n",
       "...                         ...          ...   \n",
       "206159                  STREŽBA        6,76    \n",
       "205967             FIZIČNA DELA        4,06    \n",
       "205881         PARKIRANJE VOZIL        4,06    \n",
       "199179                  STREŽBA        4,23    \n",
       "192928               POUČEVANJE  PO DOGOVORU   \n",
       "192737                  STREŽBA        4,23    \n",
       "182979                  STREŽBA        5,07    \n",
       "182923                  STREŽBA        4,00    \n",
       "182863                  STREŽBA        5,00    \n",
       "182856                  STREŽBA        5,00    \n",
       "\n",
       "                                           lokacija  \\\n",
       "sifra                                                 \n",
       "280638                                    LJUBLJANA   \n",
       "280636                                    LJUBLJANA   \n",
       "280635                                    LJUBLJANA   \n",
       "280634                                    LJUBLJANA   \n",
       "280633                                    LJUBLJANA   \n",
       "280632                                      LOGATEC   \n",
       "280630                                      MARIBOR   \n",
       "280629                                    LJUBLJANA   \n",
       "280628                                    LJUBLJANA   \n",
       "280627                                    LJUBLJANA   \n",
       "...                                             ...   \n",
       "206159                                    LJUBLJANA   \n",
       "205967                                        KOPER   \n",
       "205881                                        KOPER   \n",
       "199179                                      DOMŽALE   \n",
       "192928  ROGAŠKA SLATINA, ŠMARJE PRI JELŠAH, ROGATEC   \n",
       "192737                                    LJUBLJANA   \n",
       "182979                                      VRHNIKA   \n",
       "182923                                    PRIGORICA   \n",
       "182863                                 DOMŽALE, VIR   \n",
       "182856                                     RADOMLJE   \n",
       "\n",
       "                                                     opis  st_prostih_mest  \\\n",
       "sifra                                                                        \n",
       "280638  Podjetje išče dve osebi za pomožna dela v stre...                2   \n",
       "280636  Podjetje potrebuje osebo višjega letnika študi...                1   \n",
       "280635  Podjetje išče osebi  za pomivanje posode. Zaže...                2   \n",
       "280634  Znano farmacevtsko podjetje potrebuje  polnole...                1   \n",
       "280633  Iščejo samostojno, proaktivno, iznajdljivo, za...                1   \n",
       "280632  Potrebujejo dva kandidata za razkladanje konte...                2   \n",
       "280630  Podjetje potrebuje spretne osebe za pomoč v fo...                3   \n",
       "280629  Obvezno odlično znanje italijanskega jezika, o...                1   \n",
       "280628  Iščejo študenta ali študentko, ki zaključuje š...                1   \n",
       "280627  Podjetje išče polnoletno osebo za prodajo iger...                1   \n",
       "...                                                   ...              ...   \n",
       "206159  Delo poteka v nočnem času. Pogoj je starost na...                3   \n",
       "205967  Fizično delo v Luki Koper, pomoč pri raztovarj...                3   \n",
       "205881  Podjetje išče osebe za parkiranje vozil v Luki...                3   \n",
       "199179  Strežba v lokalu športnega tipa s prijaznim ko...                1   \n",
       "192928  Ambiciozen plesni kolektiv išče mlade, zaneslj...                1   \n",
       "192737  Pogoji: starost nad 18 let, izkušnje, prijazno...                1   \n",
       "182979                       Pogoj je starost nad 20 let.                2   \n",
       "182923  Prednost imajo vestne in komunikativne osebe. ...                1   \n",
       "182863  Priljubljen lokal ob Kamniški Bistrici išče po...                2   \n",
       "182856  Delo v strežbi,. Zaželene so izkušnje, starost...                1   \n",
       "\n",
       "                                      trajanje      delovnik  \n",
       "sifra                                                         \n",
       "280638                              PODOGOVORU      Popoldan  \n",
       "280636                             PO DOGOVORU   Po dogovoru  \n",
       "280635                              PODOGOVORU      Popoldan  \n",
       "280634                               DLJE ČASA      Izmensko  \n",
       "280633                               DLJE ČASA      Dopoldan  \n",
       "280632                               5 11.2018      Dopoldan  \n",
       "280630                               DLJE ČASA      Izmensko  \n",
       "280629                               DLJE ČASA   Po dogovoru  \n",
       "280628   OD 1 DO 2 MESECEV, MOŽNO PODALJŠANJE.      Dopoldan  \n",
       "280627                               DLJE ČASA   Po dogovoru  \n",
       "...                                        ...           ...  \n",
       "206159                               DLJE ČASA   Po dogovoru  \n",
       "205967                               DLJE ČASA   Po dogovoru  \n",
       "205881                               DLJE ČASA   Po dogovoru  \n",
       "199179                               DLJE ČASA      Izmensko  \n",
       "192928                               DLJE ČASA      Popoldan  \n",
       "192737                               DLJE ČASA      Izmensko  \n",
       "182979                             PO DOGOVORU      Popoldan  \n",
       "182923                               DLJE ČASA      Popoldan  \n",
       "182863                               DLJE ČASA   Po dogovoru  \n",
       "182856                               DLJE ČASA   Po dogovoru  \n",
       "\n",
       "[3210 rows x 7 columns]"
      ]
     },
     "execution_count": 4,
     "metadata": {},
     "output_type": "execute_result"
    }
   ],
   "source": [
    "podatki_o_delovnih_mestih"
   ]
  },
  {
   "cell_type": "markdown",
   "metadata": {},
   "source": [
    "Opis dela ne pride v poštev za analizo, zato bom stolpec z opisom dela izločila iz nabora podatkov. Vseeno ostane v zgornji tabeli, saj je lahko uporaben, če se zanimamo za posamezna dela. Stolpec bi lahko izločila na sledeči način:  \n",
    "dela = podatki_o_delovnih_mestih.drop(columns=['opis'])  \n",
    "Vendar bom uporabila kar novo datoteko, v kateri sem iz podatkov izločila tudi oglase za delo z drugačno kot urno postavko. Torej oglase, ki so imeli pod plačilo navedeno kaj od: po dogovoru, po projektu, po izobrazbi, 10€ na anketo, 0,5€/kos in podobno."
   ]
  },
  {
   "cell_type": "code",
   "execution_count": 5,
   "metadata": {},
   "outputs": [],
   "source": [
    "dela = pd.read_csv('precisceni.csv', sep=';', index_col='sifra').drop(columns='opis')"
   ]
  },
  {
   "cell_type": "markdown",
   "metadata": {},
   "source": [
    "Ponudbe za delo so večinoma v tekstovni obliki, zaradi česar je takšne podatke težje analizirati. Isto stvar se da povedati na različne načine. Vseeno, ko pogledamo, za koliko časa delodajalci razpisujejo dela, hitro opazimo, da v večini iščejo študente za dolgotrajnejše delo."
   ]
  },
  {
   "cell_type": "code",
   "execution_count": 6,
   "metadata": {},
   "outputs": [
    {
     "data": {
      "text/plain": [
       "trajanje\n",
       " DLJE ČASA                    1947\n",
       " PO DOGOVORU                   599\n",
       " DLJE ČASA, PO POTREBI          32\n",
       " DLJE ČASA, PO DOGOVORU         24\n",
       " PO DOGOVORU, DLJE ČASA         17\n",
       " DALJ ČASA                      16\n",
       " DO SREDINE DECEMBRA            11\n",
       " DLJE ČASA OZ. PO DOGOVORU       9\n",
       "dtype: int64"
      ]
     },
     "execution_count": 6,
     "metadata": {},
     "output_type": "execute_result"
    }
   ],
   "source": [
    "dela.groupby('trajanje').size().sort_values(ascending=False).head(8)"
   ]
  },
  {
   "cell_type": "markdown",
   "metadata": {},
   "source": [
    "Povprečno plačilo za študentsko delo je nekoliko manj kot 5 €/h neto."
   ]
  },
  {
   "cell_type": "code",
   "execution_count": 11,
   "metadata": {},
   "outputs": [
    {
     "data": {
      "text/plain": [
       "4.92"
      ]
     },
     "execution_count": 11,
     "metadata": {},
     "output_type": "execute_result"
    }
   ],
   "source": [
    "dela['placilo'].mean().round(2)"
   ]
  },
  {
   "cell_type": "markdown",
   "metadata": {},
   "source": [
    "Po pričakovanjih je daleč največ ponudb za študentska dela v Ljubljani. Sledita Maribor in Celje."
   ]
  },
  {
   "cell_type": "code",
   "execution_count": 37,
   "metadata": {},
   "outputs": [
    {
     "data": {
      "text/plain": [
       "<matplotlib.axes._subplots.AxesSubplot at 0x90a79e8>"
      ]
     },
     "execution_count": 37,
     "metadata": {},
     "output_type": "execute_result"
    },
    {
     "data": {
      "image/png": "[encoded data removed]",
      "text/plain": [
       "<Figure size 432x288 with 1 Axes>"
      ]
     },
     "metadata": {
      "needs_background": "light"
     },
     "output_type": "display_data"
    }
   ],
   "source": [
    "po_krajih = dela['lokacija'].value_counts().head(10)\n",
    "po_krajih.plot(kind='bar', title='Število delovnih mest po krajih.', stacked=True)"
   ]
  },
  {
   "cell_type": "markdown",
   "metadata": {},
   "source": [
    "Največ študentskih del je v strežbi. To sem pričakovala, me je pa presenetilo kako velik procent študentskih del je pravzaprav strežba ali druga rutinska dela, kot so fizična dela in delo na terenu. V večini gre za dela, ki jih študent sprejme zato, da ima delo, in ne zato, ker bi si želel delati na taknem delovnem mestu."
   ]
  },
  {
   "cell_type": "code",
   "execution_count": 7,
   "metadata": {},
   "outputs": [
    {
     "data": {
      "text/plain": [
       "<matplotlib.axes._subplots.AxesSubplot at 0x88fd5f8>"
      ]
     },
     "execution_count": 7,
     "metadata": {},
     "output_type": "execute_result"
    },
    {
     "data": {
      "image/png": "[encoded data removed]",
      "text/plain": [
       "<Figure size 432x288 with 1 Axes>"
      ]
     },
     "metadata": {
      "needs_background": "light"
     },
     "output_type": "display_data"
    }
   ],
   "source": [
    "vrsta_dela = dela[['lokacija', 'delovno_mesto']].groupby('delovno_mesto').size().sort_values(ascending=False).head(15)\n",
    "vrsta_dela.plot(kind='bar', title='Najpogostejše ponudbe za delo.', stacked=True)"
   ]
  },
  {
   "cell_type": "markdown",
   "metadata": {},
   "source": [
    "Upoštevajoč vse oblike plačila, vidimo, da so študentska dela najpogosteje plačana minimalno, kar je 4 €/h neto. Precej veliko pa jih je z urno postavko 5 €/h."
   ]
  },
  {
   "cell_type": "code",
   "execution_count": 8,
   "metadata": {},
   "outputs": [
    {
     "data": {
      "text/plain": [
       "<matplotlib.axes._subplots.AxesSubplot at 0x89ab470>"
      ]
     },
     "execution_count": 8,
     "metadata": {},
     "output_type": "execute_result"
    },
    {
     "data": {
      "image/png": "[encoded data removed]",
      "text/plain": [
       "<Figure size 432x288 with 1 Axes>"
      ]
     },
     "metadata": {
      "needs_background": "light"
     },
     "output_type": "display_data"
    }
   ],
   "source": [
    "po_placilu = podatki_o_delovnih_mestih[['placilo']].groupby('placilo').size().sort_values(ascending=False).head(10)\n",
    "po_placilu.plot(kind='barh', title='Najpogostejša urna postavka')"
   ]
  },
  {
   "cell_type": "markdown",
   "metadata": {},
   "source": [
    "Zanimala me je povezava med tem koliko študentov iščejo na različno plačanih delovnih mestih.  \n",
    "Zanimivo se mi zdi, da za dela, ki so nizko plačana iščejo razmeroma malo delavcev, med tem ko je za bolje plačana dela na voljo več mest."
   ]
  },
  {
   "cell_type": "code",
   "execution_count": 9,
   "metadata": {},
   "outputs": [
    {
     "data": {
      "text/plain": [
       "<matplotlib.axes._subplots.AxesSubplot at 0x8bf06a0>"
      ]
     },
     "execution_count": 9,
     "metadata": {},
     "output_type": "execute_result"
    },
    {
     "data": {
      "image/png": "[encoded data removed]",
      "text/plain": [
       "<Figure size 432x288 with 1 Axes>"
      ]
     },
     "metadata": {
      "needs_background": "light"
     },
     "output_type": "display_data"
    }
   ],
   "source": [
    "dela.groupby('delovno_mesto').mean().round(2).sort_values('placilo').plot()"
   ]
  },
  {
   "cell_type": "code",
   "execution_count": 10,
   "metadata": {},
   "outputs": [
    {
     "data": {
      "text/plain": [
       "<matplotlib.axes._subplots.AxesSubplot at 0x8c66b00>"
      ]
     },
     "execution_count": 10,
     "metadata": {},
     "output_type": "execute_result"
    },
    {
     "data": {
      "image/png": "[encoded data removed]",
      "text/plain": [
       "<Figure size 432x288 with 1 Axes>"
      ]
     },
     "metadata": {
      "needs_background": "light"
     },
     "output_type": "display_data"
    }
   ],
   "source": [
    "dela.groupby('lokacija').mean().round(2).sort_values('placilo').tail(15).plot.bar()"
   ]
  },
  {
   "cell_type": "markdown",
   "metadata": {},
   "source": [
    "Vidimo, da so najbolje plačana dela res v Ljubljani in njeni okolici. V manjših krajih ne najdemo visoko plačanih študentskih del."
   ]
  },
  {
   "cell_type": "code",
   "execution_count": 11,
   "metadata": {},
   "outputs": [
    {
     "data": {
      "text/plain": [
       "lokacija\n",
       "SKORBA                     4.00\n",
       "ŠENTJUR PRI CELJU          4.00\n",
       "ROB PRI VELIKIH LAŠČAH     4.00\n",
       "RIMSEK TOPLICE             4.00\n",
       "ŠENTVID PRI GROBELNEM      4.00\n",
       "LOKA                       4.00\n",
       "ZAGORJE Z OKOLICO          4.00\n",
       "SPODNJA POLSKAVA           4.00\n",
       "CELJE CITY CENTER          4.00\n",
       "ZAGORJE PRI PIVKI          4.00\n",
       "                          ...  \n",
       "TRZIN                     10.00\n",
       "KRANJSKA GORA             10.00\n",
       "KOPER                     10.00\n",
       "SEŽANA                    11.01\n",
       "MARIBOR                   12.67\n",
       "IVANČNA GORICA            15.00\n",
       "ŠKOFJA LOKA               15.00\n",
       "KRAŠKA REGIJA             16.50\n",
       "LJUBLJANA                 18.00\n",
       "KAMNIK                    20.00\n",
       "Name: placilo, Length: 583, dtype: float64"
      ]
     },
     "execution_count": 11,
     "metadata": {},
     "output_type": "execute_result"
    }
   ],
   "source": [
    "dela.groupby('lokacija')['placilo'].max().sort_values()"
   ]
  },
  {
   "cell_type": "markdown",
   "metadata": {},
   "source": [
    "Povprečna plača za študentsko delo pa je najvišja za tujino in nekatere turistično pomenbne kraje. Povprečna plača za delo v Ljubljani ni med najvišlimi desetimi."
   ]
  },
  {
   "cell_type": "code",
   "execution_count": 12,
   "metadata": {},
   "outputs": [
    {
     "data": {
      "text/plain": [
       "<matplotlib.axes._subplots.AxesSubplot at 0x8f2f710>"
      ]
     },
     "execution_count": 12,
     "metadata": {},
     "output_type": "execute_result"
    },
    {
     "data": {
      "image/png": "[encoded data removed]",
      "text/plain": [
       "<Figure size 432x288 with 1 Axes>"
      ]
     },
     "metadata": {
      "needs_background": "light"
     },
     "output_type": "display_data"
    }
   ],
   "source": [
    "barve = ['dimgray', 'olive', 'chocolate', 'maroon', 'darkgray', 'sienna', 'saddlebrown']\n",
    "\n",
    "dela.groupby('lokacija')['placilo'].mean().sort_values().tail(10).plot.bar(title='kraji z najvišjo povprečno urno postavko', color=barve)"
   ]
  },
  {
   "cell_type": "markdown",
   "metadata": {},
   "source": [
    "Nekoliko me je presenetilo, da so dela z izmenskim delovnikom v povprečju nižje plačana od ostalih.\n",
    "Vidimo pa tudi, da je največje povpraševanje za delo med vikendi."
   ]
  },
  {
   "cell_type": "code",
   "execution_count": 13,
   "metadata": {
    "scrolled": true
   },
   "outputs": [
    {
     "data": {
      "text/plain": [
       "<matplotlib.axes._subplots.AxesSubplot at 0xa17fc18>"
      ]
     },
     "execution_count": 13,
     "metadata": {},
     "output_type": "execute_result"
    },
    {
     "data": {
      "image/png": "[encoded data removed]",
      "text/plain": [
       "<Figure size 432x288 with 1 Axes>"
      ]
     },
     "metadata": {
      "needs_background": "light"
     },
     "output_type": "display_data"
    }
   ],
   "source": [
    "dela.groupby('delovnik').mean().round(2).sort_values('placilo').plot(kind='bar', color=['grey', 'black'])"
   ]
  },
  {
   "cell_type": "markdown",
   "metadata": {},
   "source": [
    "Za strežbo je študent v povprečju najbolje plačan v Trnovcu pri Medvodah.  \n",
    "Če namesto povprečne vrednosti pogledamo maksimalno, pa opazimo, da je najvišja ponujena plača za strežbo najvišja v Domžalah in Ljubljani."
   ]
  },
  {
   "cell_type": "code",
   "execution_count": 14,
   "metadata": {},
   "outputs": [
    {
     "data": {
      "text/html": [
       "<div>\n",
       "<style scoped>\n",
       "    .dataframe tbody tr th:only-of-type {\n",
       "        vertical-align: middle;\n",
       "    }\n",
       "\n",
       "    .dataframe tbody tr th {\n",
       "        vertical-align: top;\n",
       "    }\n",
       "\n",
       "    .dataframe thead th {\n",
       "        text-align: right;\n",
       "    }\n",
       "</style>\n",
       "<table border=\"1\" class=\"dataframe\">\n",
       "  <thead>\n",
       "    <tr style=\"text-align: right;\">\n",
       "      <th></th>\n",
       "      <th>placilo</th>\n",
       "    </tr>\n",
       "    <tr>\n",
       "      <th>lokacija</th>\n",
       "      <th></th>\n",
       "    </tr>\n",
       "  </thead>\n",
       "  <tbody>\n",
       "    <tr>\n",
       "      <th>PODSMREKA PRI LJUBLJANI</th>\n",
       "      <td>5.50</td>\n",
       "    </tr>\n",
       "    <tr>\n",
       "      <th>DOB PRI DOMŽALAH</th>\n",
       "      <td>5.50</td>\n",
       "    </tr>\n",
       "    <tr>\n",
       "      <th>CERKVENJAK</th>\n",
       "      <td>5.92</td>\n",
       "    </tr>\n",
       "    <tr>\n",
       "      <th>BREZOVICA PRI LJUBLJANI</th>\n",
       "      <td>6.00</td>\n",
       "    </tr>\n",
       "    <tr>\n",
       "      <th>BENEDIKT</th>\n",
       "      <td>6.00</td>\n",
       "    </tr>\n",
       "    <tr>\n",
       "      <th>TRNOVO</th>\n",
       "      <td>6.00</td>\n",
       "    </tr>\n",
       "    <tr>\n",
       "      <th>IHAN</th>\n",
       "      <td>6.00</td>\n",
       "    </tr>\n",
       "    <tr>\n",
       "      <th>VELIKA PIREŠICA</th>\n",
       "      <td>6.00</td>\n",
       "    </tr>\n",
       "    <tr>\n",
       "      <th>LUKOVICA</th>\n",
       "      <td>6.00</td>\n",
       "    </tr>\n",
       "    <tr>\n",
       "      <th>POLJANE NAD ŠKOFJO LOKO</th>\n",
       "      <td>6.00</td>\n",
       "    </tr>\n",
       "    <tr>\n",
       "      <th>VIŠNJA GORA</th>\n",
       "      <td>6.00</td>\n",
       "    </tr>\n",
       "    <tr>\n",
       "      <th>DEPALA VAS</th>\n",
       "      <td>6.00</td>\n",
       "    </tr>\n",
       "    <tr>\n",
       "      <th>ŽUSTERNA</th>\n",
       "      <td>6.00</td>\n",
       "    </tr>\n",
       "    <tr>\n",
       "      <th>ZBILJSKO JEZERO</th>\n",
       "      <td>6.34</td>\n",
       "    </tr>\n",
       "    <tr>\n",
       "      <th>TRNOVEC PRI MEDVODAH</th>\n",
       "      <td>8.00</td>\n",
       "    </tr>\n",
       "  </tbody>\n",
       "</table>\n",
       "</div>"
      ],
      "text/plain": [
       "                         placilo\n",
       "lokacija                        \n",
       "PODSMREKA PRI LJUBLJANI     5.50\n",
       "DOB PRI DOMŽALAH            5.50\n",
       "CERKVENJAK                  5.92\n",
       "BREZOVICA PRI LJUBLJANI     6.00\n",
       "BENEDIKT                    6.00\n",
       "TRNOVO                      6.00\n",
       "IHAN                        6.00\n",
       "VELIKA PIREŠICA             6.00\n",
       "LUKOVICA                    6.00\n",
       "POLJANE NAD ŠKOFJO LOKO     6.00\n",
       "VIŠNJA GORA                 6.00\n",
       "DEPALA VAS                  6.00\n",
       "ŽUSTERNA                    6.00\n",
       "ZBILJSKO JEZERO             6.34\n",
       "TRNOVEC PRI MEDVODAH        8.00"
      ]
     },
     "execution_count": 14,
     "metadata": {},
     "output_type": "execute_result"
    }
   ],
   "source": [
    "dela[dela['delovno_mesto'] == 'STREŽBA'].groupby('lokacija').mean().drop(columns='st_prostih_mest').sort_values('placilo').tail(15)"
   ]
  },
  {
   "cell_type": "markdown",
   "metadata": {},
   "source": [
    "V Ljubljani so najbolje plačana dela, za katera je potrebno kar nekaj znanja in izkušenj. To so učitelj, trener, programer in lektor."
   ]
  },
  {
   "cell_type": "code",
   "execution_count": 19,
   "metadata": {},
   "outputs": [
    {
     "data": {
      "text/html": [
       "<div>\n",
       "<style scoped>\n",
       "    .dataframe tbody tr th:only-of-type {\n",
       "        vertical-align: middle;\n",
       "    }\n",
       "\n",
       "    .dataframe tbody tr th {\n",
       "        vertical-align: top;\n",
       "    }\n",
       "\n",
       "    .dataframe thead th {\n",
       "        text-align: right;\n",
       "    }\n",
       "</style>\n",
       "<table border=\"1\" class=\"dataframe\">\n",
       "  <thead>\n",
       "    <tr style=\"text-align: right;\">\n",
       "      <th></th>\n",
       "      <th>delovno_mesto</th>\n",
       "      <th>placilo</th>\n",
       "      <th>lokacija</th>\n",
       "      <th>st_prostih_mest</th>\n",
       "      <th>trajanje</th>\n",
       "      <th>delovnik</th>\n",
       "    </tr>\n",
       "    <tr>\n",
       "      <th>sifra</th>\n",
       "      <th></th>\n",
       "      <th></th>\n",
       "      <th></th>\n",
       "      <th></th>\n",
       "      <th></th>\n",
       "      <th></th>\n",
       "    </tr>\n",
       "  </thead>\n",
       "  <tbody>\n",
       "    <tr>\n",
       "      <th>274849</th>\n",
       "      <td>POUČEVANJE</td>\n",
       "      <td>10.00</td>\n",
       "      <td>LJUBLJANA</td>\n",
       "      <td>3</td>\n",
       "      <td>DLJE ČASA</td>\n",
       "      <td>dopoldan</td>\n",
       "    </tr>\n",
       "    <tr>\n",
       "      <th>279603</th>\n",
       "      <td>PROGRAMIRANJE</td>\n",
       "      <td>10.14</td>\n",
       "      <td>LJUBLJANA</td>\n",
       "      <td>2</td>\n",
       "      <td>DLJE ČASA</td>\n",
       "      <td>po dogovoru</td>\n",
       "    </tr>\n",
       "    <tr>\n",
       "      <th>280028</th>\n",
       "      <td>POUČEVANJE</td>\n",
       "      <td>10.14</td>\n",
       "      <td>LJUBLJANA</td>\n",
       "      <td>2</td>\n",
       "      <td>6 MESECEV</td>\n",
       "      <td>po dogovoru</td>\n",
       "    </tr>\n",
       "    <tr>\n",
       "      <th>255730</th>\n",
       "      <td>PROGRAMIRANJE</td>\n",
       "      <td>10.98</td>\n",
       "      <td>LJUBLJANA</td>\n",
       "      <td>1</td>\n",
       "      <td>DLJE ČASA</td>\n",
       "      <td>po dogovoru</td>\n",
       "    </tr>\n",
       "    <tr>\n",
       "      <th>280286</th>\n",
       "      <td>TRENER/KA</td>\n",
       "      <td>12.00</td>\n",
       "      <td>LJUBLJANA</td>\n",
       "      <td>1</td>\n",
       "      <td>DLJE ČASA</td>\n",
       "      <td>dopoldan</td>\n",
       "    </tr>\n",
       "    <tr>\n",
       "      <th>270007</th>\n",
       "      <td>LEKTORIRANJE</td>\n",
       "      <td>15.00</td>\n",
       "      <td>LJUBLJANA</td>\n",
       "      <td>1</td>\n",
       "      <td>PO DOGOVORU (10-20 UR)</td>\n",
       "      <td>po dogovoru</td>\n",
       "    </tr>\n",
       "    <tr>\n",
       "      <th>273008</th>\n",
       "      <td>POUČEVANJE</td>\n",
       "      <td>18.00</td>\n",
       "      <td>LJUBLJANA</td>\n",
       "      <td>1</td>\n",
       "      <td>DLJE ČASA</td>\n",
       "      <td>dopoldan</td>\n",
       "    </tr>\n",
       "  </tbody>\n",
       "</table>\n",
       "</div>"
      ],
      "text/plain": [
       "        delovno_mesto  placilo   lokacija  st_prostih_mest  \\\n",
       "sifra                                                        \n",
       "274849     POUČEVANJE    10.00  LJUBLJANA                3   \n",
       "279603  PROGRAMIRANJE    10.14  LJUBLJANA                2   \n",
       "280028     POUČEVANJE    10.14  LJUBLJANA                2   \n",
       "255730  PROGRAMIRANJE    10.98  LJUBLJANA                1   \n",
       "280286      TRENER/KA    12.00  LJUBLJANA                1   \n",
       "270007   LEKTORIRANJE    15.00  LJUBLJANA                1   \n",
       "273008     POUČEVANJE    18.00  LJUBLJANA                1   \n",
       "\n",
       "                       trajanje      delovnik  \n",
       "sifra                                          \n",
       "274849                DLJE ČASA      dopoldan  \n",
       "279603                DLJE ČASA   po dogovoru  \n",
       "280028                6 MESECEV   po dogovoru  \n",
       "255730                DLJE ČASA   po dogovoru  \n",
       "280286                DLJE ČASA      dopoldan  \n",
       "270007   PO DOGOVORU (10-20 UR)   po dogovoru  \n",
       "273008                DLJE ČASA      dopoldan  "
      ]
     },
     "execution_count": 19,
     "metadata": {},
     "output_type": "execute_result"
    }
   ],
   "source": [
    "dela[dela.lokacija == 'LJUBLJANA'].sort_values('placilo').tail(7)"
   ]
  },
  {
   "cell_type": "markdown",
   "metadata": {},
   "source": [
    "Za primer poglejmo delo učitelja. Urne postavke za to delo so v večini od 4 do 10 €/h neto, segajo pa tudi do 18 €/h neto."
   ]
  },
  {
   "cell_type": "code",
   "execution_count": 20,
   "metadata": {},
   "outputs": [
    {
     "data": {
      "image/png": "[encoded data removed]",
      "text/plain": [
       "<Figure size 432x288 with 1 Axes>"
      ]
     },
     "metadata": {
      "needs_background": "light"
     },
     "output_type": "display_data"
    }
   ],
   "source": [
    "graf = dela[dela.delovno_mesto == 'POUČEVANJE'].sort_values('placilo').groupby('placilo').size().plot()"
   ]
  },
  {
   "cell_type": "markdown",
   "metadata": {},
   "source": [
    "Poglejmo tipe delovnih mest, ki zaposlujejo največ študentov."
   ]
  },
  {
   "cell_type": "code",
   "execution_count": 29,
   "metadata": {},
   "outputs": [
    {
     "data": {
      "text/html": [
       "<div>\n",
       "<style scoped>\n",
       "    .dataframe tbody tr th:only-of-type {\n",
       "        vertical-align: middle;\n",
       "    }\n",
       "\n",
       "    .dataframe tbody tr th {\n",
       "        vertical-align: top;\n",
       "    }\n",
       "\n",
       "    .dataframe thead th {\n",
       "        text-align: right;\n",
       "    }\n",
       "</style>\n",
       "<table border=\"1\" class=\"dataframe\">\n",
       "  <thead>\n",
       "    <tr style=\"text-align: right;\">\n",
       "      <th></th>\n",
       "      <th>lokacija</th>\n",
       "      <th>st_prostih_mest</th>\n",
       "      <th>trajanje</th>\n",
       "    </tr>\n",
       "    <tr>\n",
       "      <th>delovno_mesto</th>\n",
       "      <th></th>\n",
       "      <th></th>\n",
       "      <th></th>\n",
       "    </tr>\n",
       "  </thead>\n",
       "  <tbody>\n",
       "    <tr>\n",
       "      <th>KRUPJE/ KRUPJEJKA</th>\n",
       "      <td>NOVA GORICA</td>\n",
       "      <td>40</td>\n",
       "      <td>PO DOGOVORU</td>\n",
       "    </tr>\n",
       "    <tr>\n",
       "      <th>UČITELJ SMUČANJA</th>\n",
       "      <td>SORIŠKA PLANINA, STARI VRH, VOGEL</td>\n",
       "      <td>30</td>\n",
       "      <td>ZIMA 2018/2019</td>\n",
       "    </tr>\n",
       "    <tr>\n",
       "      <th>VZGOJITELJICA/ VZGOJITELJ</th>\n",
       "      <td>SORIŠKA PLANINA, STARI VRH, VOGEL</td>\n",
       "      <td>30</td>\n",
       "      <td>DO 1. 3. 2019</td>\n",
       "    </tr>\n",
       "    <tr>\n",
       "      <th>PROMOCIJA</th>\n",
       "      <td>ZASAVJE</td>\n",
       "      <td>20</td>\n",
       "      <td>ZA DALJŠE ČASOVNO OBDOBJE</td>\n",
       "    </tr>\n",
       "    <tr>\n",
       "      <th>POMOČ PRI PRODAJI</th>\n",
       "      <td>ŠKOFJA LOKA</td>\n",
       "      <td>20</td>\n",
       "      <td>ZA DALJ ČASA</td>\n",
       "    </tr>\n",
       "    <tr>\n",
       "      <th>HOSTES/A</th>\n",
       "      <td>PORTOROŽ</td>\n",
       "      <td>20</td>\n",
       "      <td>OB PETKIH IN SOBOTAH</td>\n",
       "    </tr>\n",
       "    <tr>\n",
       "      <th>STREŽBA HRANE IN PIJAČE</th>\n",
       "      <td>ŽIRI</td>\n",
       "      <td>20</td>\n",
       "      <td>VIKENDI IN SEZONE (ZIMA-POLETJE)</td>\n",
       "    </tr>\n",
       "    <tr>\n",
       "      <th>PARKIRANJE VOZIL</th>\n",
       "      <td>KOPER</td>\n",
       "      <td>20</td>\n",
       "      <td>PO DOGOVORU</td>\n",
       "    </tr>\n",
       "    <tr>\n",
       "      <th>POMOČ V KUHINJI</th>\n",
       "      <td>ŽUSTERNA</td>\n",
       "      <td>20</td>\n",
       "      <td>SEZONE ZIME, POLETJE IN VIKENDI</td>\n",
       "    </tr>\n",
       "    <tr>\n",
       "      <th>INVENTURA</th>\n",
       "      <td>NOVA GORICA- QULANDIJA</td>\n",
       "      <td>15</td>\n",
       "      <td>DO PREDVIDOMA KONCA NOVEMBRA</td>\n",
       "    </tr>\n",
       "  </tbody>\n",
       "</table>\n",
       "</div>"
      ],
      "text/plain": [
       "                                                    lokacija  st_prostih_mest  \\\n",
       "delovno_mesto                                                                   \n",
       "KRUPJE/ KRUPJEJKA                                NOVA GORICA               40   \n",
       "UČITELJ SMUČANJA           SORIŠKA PLANINA, STARI VRH, VOGEL               30   \n",
       "VZGOJITELJICA/ VZGOJITELJ  SORIŠKA PLANINA, STARI VRH, VOGEL               30   \n",
       "PROMOCIJA                                            ZASAVJE               20   \n",
       "POMOČ PRI PRODAJI                                ŠKOFJA LOKA               20   \n",
       "HOSTES/A                                            PORTOROŽ               20   \n",
       "STREŽBA HRANE IN PIJAČE                                 ŽIRI               20   \n",
       "PARKIRANJE VOZIL                                       KOPER               20   \n",
       "POMOČ V KUHINJI                                     ŽUSTERNA               20   \n",
       "INVENTURA                             NOVA GORICA- QULANDIJA               15   \n",
       "\n",
       "                                                    trajanje  \n",
       "delovno_mesto                                                 \n",
       "KRUPJE/ KRUPJEJKA                                PO DOGOVORU  \n",
       "UČITELJ SMUČANJA                              ZIMA 2018/2019  \n",
       "VZGOJITELJICA/ VZGOJITELJ                      DO 1. 3. 2019  \n",
       "PROMOCIJA                          ZA DALJŠE ČASOVNO OBDOBJE  \n",
       "POMOČ PRI PRODAJI                               ZA DALJ ČASA  \n",
       "HOSTES/A                                OB PETKIH IN SOBOTAH  \n",
       "STREŽBA HRANE IN PIJAČE     VIKENDI IN SEZONE (ZIMA-POLETJE)  \n",
       "PARKIRANJE VOZIL                                 PO DOGOVORU  \n",
       "POMOČ V KUHINJI              SEZONE ZIME, POLETJE IN VIKENDI  \n",
       "INVENTURA                       DO PREDVIDOMA KONCA NOVEMBRA  "
      ]
     },
     "execution_count": 29,
     "metadata": {},
     "output_type": "execute_result"
    }
   ],
   "source": [
    "dela.groupby('delovno_mesto').max().sort_values('st_prostih_mest', ascending=False).head(10).drop(columns=['placilo', 'delovnik'])"
   ]
  },
  {
   "cell_type": "markdown",
   "metadata": {},
   "source": [
    "Nazadnje poglejmo še delež študentskih del, ki so plačana do 5 €/h neto glede na vse ponudbe za delo. Opazimo, da je približno tretjina študentskih del plačana preko 5 €/h."
   ]
  },
  {
   "cell_type": "code",
   "execution_count": 79,
   "metadata": {},
   "outputs": [],
   "source": [
    "dela['nad_pet'] = dela['placilo'] > 5.00"
   ]
  },
  {
   "cell_type": "code",
   "execution_count": 80,
   "metadata": {},
   "outputs": [],
   "source": [
    "dela_nad_pet = dela.groupby('nad_pet')"
   ]
  },
  {
   "cell_type": "code",
   "execution_count": 83,
   "metadata": {},
   "outputs": [
    {
     "data": {
      "text/plain": [
       "<matplotlib.axes._subplots.AxesSubplot at 0xa723470>"
      ]
     },
     "execution_count": 83,
     "metadata": {},
     "output_type": "execute_result"
    },
    {
     "data": {
      "image/png": "[encoded data removed]",
      "text/plain": [
       "<Figure size 432x288 with 1 Axes>"
      ]
     },
     "metadata": {},
     "output_type": "display_data"
    }
   ],
   "source": [
    "dela_nad_pet.count().plot(kind='pie', y='placilo', title='delež služb plačanih več (True) ali manj (False) od 5 €/h')"
   ]
  }
 ],
 "metadata": {
  "kernelspec": {
   "display_name": "Python 3",
   "language": "python",
   "name": "python3"
  },
  "language_info": {
   "codemirror_mode": {
    "name": "ipython",
    "version": 3
   },
   "file_extension": ".py",
   "mimetype": "text/x-python",
   "name": "python",
   "nbconvert_exporter": "python",
   "pygments_lexer": "ipython3",
   "version": "3.7.1"
  }
 },
 "nbformat": 4,
 "nbformat_minor": 2
}
